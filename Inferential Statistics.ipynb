{
 "cells": [
  {
   "cell_type": "code",
   "execution_count": 2,
   "metadata": {},
   "outputs": [],
   "source": [
    "import numpy as np\n",
    "import pandas as pd"
   ]
  },
  {
   "cell_type": "code",
   "execution_count": 3,
   "metadata": {},
   "outputs": [
    {
     "name": "stderr",
     "output_type": "stream",
     "text": [
      "C:\\Users\\arpan\\Anaconda3\\lib\\site-packages\\IPython\\core\\interactiveshell.py:2785: DtypeWarning: Columns (4) have mixed types. Specify dtype option on import or set low_memory=False.\n",
      "  interactivity=interactivity, compiler=compiler, result=result)\n"
     ]
    },
    {
     "data": {
      "text/html": [
       "<div>\n",
       "<style scoped>\n",
       "    .dataframe tbody tr th:only-of-type {\n",
       "        vertical-align: middle;\n",
       "    }\n",
       "\n",
       "    .dataframe tbody tr th {\n",
       "        vertical-align: top;\n",
       "    }\n",
       "\n",
       "    .dataframe thead th {\n",
       "        text-align: right;\n",
       "    }\n",
       "</style>\n",
       "<table border=\"1\" class=\"dataframe\">\n",
       "  <thead>\n",
       "    <tr style=\"text-align: right;\">\n",
       "      <th></th>\n",
       "      <th>loan_id</th>\n",
       "      <th>mon_rep_dt</th>\n",
       "      <th>UPB_x</th>\n",
       "      <th>default_status</th>\n",
       "      <th>loan_age</th>\n",
       "      <th>credit_score</th>\n",
       "      <th>1st_pay_dt</th>\n",
       "      <th>1st_home</th>\n",
       "      <th>maturity_dt</th>\n",
       "      <th>MI%</th>\n",
       "      <th>...</th>\n",
       "      <th>channel</th>\n",
       "      <th>prod_type</th>\n",
       "      <th>state</th>\n",
       "      <th>home_type</th>\n",
       "      <th>zip_code</th>\n",
       "      <th>purpose</th>\n",
       "      <th>loan_term</th>\n",
       "      <th>no_borrowers</th>\n",
       "      <th>seller</th>\n",
       "      <th>servicer</th>\n",
       "    </tr>\n",
       "  </thead>\n",
       "  <tbody>\n",
       "    <tr>\n",
       "      <th>0</th>\n",
       "      <td>F115Q1000001</td>\n",
       "      <td>201610</td>\n",
       "      <td>0.00</td>\n",
       "      <td>0</td>\n",
       "      <td>18</td>\n",
       "      <td>796</td>\n",
       "      <td>201505</td>\n",
       "      <td>9</td>\n",
       "      <td>203004</td>\n",
       "      <td>0</td>\n",
       "      <td>...</td>\n",
       "      <td>R</td>\n",
       "      <td>FRM</td>\n",
       "      <td>IA</td>\n",
       "      <td>SF</td>\n",
       "      <td>51000</td>\n",
       "      <td>C</td>\n",
       "      <td>180</td>\n",
       "      <td>1</td>\n",
       "      <td>Other sellers</td>\n",
       "      <td>Other servicers</td>\n",
       "    </tr>\n",
       "    <tr>\n",
       "      <th>1</th>\n",
       "      <td>F115Q1000002</td>\n",
       "      <td>201709</td>\n",
       "      <td>100534.98</td>\n",
       "      <td>0</td>\n",
       "      <td>30</td>\n",
       "      <td>805</td>\n",
       "      <td>201504</td>\n",
       "      <td>9</td>\n",
       "      <td>204503</td>\n",
       "      <td>0</td>\n",
       "      <td>...</td>\n",
       "      <td>B</td>\n",
       "      <td>FRM</td>\n",
       "      <td>NE</td>\n",
       "      <td>SF</td>\n",
       "      <td>68500</td>\n",
       "      <td>N</td>\n",
       "      <td>360</td>\n",
       "      <td>1</td>\n",
       "      <td>Other sellers</td>\n",
       "      <td>Other servicers</td>\n",
       "    </tr>\n",
       "    <tr>\n",
       "      <th>2</th>\n",
       "      <td>F115Q1000003</td>\n",
       "      <td>201709</td>\n",
       "      <td>320369.23</td>\n",
       "      <td>0</td>\n",
       "      <td>31</td>\n",
       "      <td>730</td>\n",
       "      <td>201503</td>\n",
       "      <td>9</td>\n",
       "      <td>203002</td>\n",
       "      <td>0</td>\n",
       "      <td>...</td>\n",
       "      <td>R</td>\n",
       "      <td>FRM</td>\n",
       "      <td>KY</td>\n",
       "      <td>SF</td>\n",
       "      <td>40400</td>\n",
       "      <td>N</td>\n",
       "      <td>180</td>\n",
       "      <td>2</td>\n",
       "      <td>Other sellers</td>\n",
       "      <td>NATIONSTARMTGELLCDBA</td>\n",
       "    </tr>\n",
       "    <tr>\n",
       "      <th>3</th>\n",
       "      <td>F115Q1000004</td>\n",
       "      <td>201709</td>\n",
       "      <td>281120.77</td>\n",
       "      <td>0</td>\n",
       "      <td>29</td>\n",
       "      <td>762</td>\n",
       "      <td>201505</td>\n",
       "      <td>9</td>\n",
       "      <td>204504</td>\n",
       "      <td>0</td>\n",
       "      <td>...</td>\n",
       "      <td>R</td>\n",
       "      <td>FRM</td>\n",
       "      <td>CO</td>\n",
       "      <td>SF</td>\n",
       "      <td>81200</td>\n",
       "      <td>N</td>\n",
       "      <td>360</td>\n",
       "      <td>2</td>\n",
       "      <td>Other sellers</td>\n",
       "      <td>USBANKNA</td>\n",
       "    </tr>\n",
       "    <tr>\n",
       "      <th>4</th>\n",
       "      <td>F115Q1000005</td>\n",
       "      <td>201709</td>\n",
       "      <td>183054.42</td>\n",
       "      <td>0</td>\n",
       "      <td>29</td>\n",
       "      <td>777</td>\n",
       "      <td>201505</td>\n",
       "      <td>9</td>\n",
       "      <td>204504</td>\n",
       "      <td>0</td>\n",
       "      <td>...</td>\n",
       "      <td>R</td>\n",
       "      <td>FRM</td>\n",
       "      <td>IL</td>\n",
       "      <td>SF</td>\n",
       "      <td>61700</td>\n",
       "      <td>N</td>\n",
       "      <td>360</td>\n",
       "      <td>1</td>\n",
       "      <td>Other sellers</td>\n",
       "      <td>Other servicers</td>\n",
       "    </tr>\n",
       "  </tbody>\n",
       "</table>\n",
       "<p>5 rows × 27 columns</p>\n",
       "</div>"
      ],
      "text/plain": [
       "        loan_id  mon_rep_dt      UPB_x default_status  loan_age  credit_score  \\\n",
       "0  F115Q1000001      201610       0.00              0        18           796   \n",
       "1  F115Q1000002      201709  100534.98              0        30           805   \n",
       "2  F115Q1000003      201709  320369.23              0        31           730   \n",
       "3  F115Q1000004      201709  281120.77              0        29           762   \n",
       "4  F115Q1000005      201709  183054.42              0        29           777   \n",
       "\n",
       "   1st_pay_dt 1st_home  maturity_dt  MI%          ...           channel  \\\n",
       "0      201505        9       203004    0          ...                 R   \n",
       "1      201504        9       204503    0          ...                 B   \n",
       "2      201503        9       203002    0          ...                 R   \n",
       "3      201505        9       204504    0          ...                 R   \n",
       "4      201505        9       204504    0          ...                 R   \n",
       "\n",
       "  prod_type  state  home_type  zip_code  purpose  loan_term no_borrowers  \\\n",
       "0       FRM     IA         SF     51000        C        180            1   \n",
       "1       FRM     NE         SF     68500        N        360            1   \n",
       "2       FRM     KY         SF     40400        N        180            2   \n",
       "3       FRM     CO         SF     81200        N        360            2   \n",
       "4       FRM     IL         SF     61700        N        360            1   \n",
       "\n",
       "          seller              servicer  \n",
       "0  Other sellers       Other servicers  \n",
       "1  Other sellers       Other servicers  \n",
       "2  Other sellers  NATIONSTARMTGELLCDBA  \n",
       "3  Other sellers              USBANKNA  \n",
       "4  Other sellers       Other servicers  \n",
       "\n",
       "[5 rows x 27 columns]"
      ]
     },
     "execution_count": 3,
     "metadata": {},
     "output_type": "execute_result"
    }
   ],
   "source": [
    "# Loading the dataset\n",
    "\n",
    "pdf = pd.read_csv('combined_dataframes.csv')\n",
    "pdf = pdf.drop(['Unnamed: 0'], axis=1)\n",
    "pdf.head()"
   ]
  },
  {
   "cell_type": "code",
   "execution_count": 4,
   "metadata": {},
   "outputs": [],
   "source": [
    "# Retaining only rows with 0 or 1 for defaut status\n",
    "\n",
    "ndf = pdf.loc[pdf['default_status'].isin(['0','1'])]"
   ]
  },
  {
   "cell_type": "markdown",
   "metadata": {},
   "source": [
    "## 1.  Question - *Is there a difference in the interest rates charged for loans acquired through different channels?*"
   ]
  },
  {
   "cell_type": "markdown",
   "metadata": {},
   "source": [
    "### Hypothesizing"
   ]
  },
  {
   "cell_type": "markdown",
   "metadata": {},
   "source": [
    "First, we'll look at the average interest rates charged by the loan channels - Retail, Broker and Correspondent"
   ]
  },
  {
   "cell_type": "code",
   "execution_count": 4,
   "metadata": {},
   "outputs": [
    {
     "data": {
      "text/plain": [
       "3.87903121852351"
      ]
     },
     "execution_count": 4,
     "metadata": {},
     "output_type": "execute_result"
    }
   ],
   "source": [
    "# Retail\n",
    "ndf[ndf.channel=='R'].interest.mean()"
   ]
  },
  {
   "cell_type": "code",
   "execution_count": 5,
   "metadata": {},
   "outputs": [
    {
     "data": {
      "text/plain": [
       "3.945533008856271"
      ]
     },
     "execution_count": 5,
     "metadata": {},
     "output_type": "execute_result"
    }
   ],
   "source": [
    "# Broker\n",
    "ndf[ndf.channel=='B'].interest.mean()"
   ]
  },
  {
   "cell_type": "code",
   "execution_count": 6,
   "metadata": {},
   "outputs": [
    {
     "data": {
      "text/plain": [
       "3.956289618597947"
      ]
     },
     "execution_count": 6,
     "metadata": {},
     "output_type": "execute_result"
    }
   ],
   "source": [
    "# Correspondent\n",
    "ndf[ndf.channel=='C'].interest.mean()"
   ]
  },
  {
   "cell_type": "markdown",
   "metadata": {},
   "source": [
    "Since there seems to be a difference between the channels for interest rates, especially between channels 'Correspondent' and 'Retail', let's look at these two closely"
   ]
  },
  {
   "cell_type": "code",
   "execution_count": 7,
   "metadata": {},
   "outputs": [
    {
     "data": {
      "text/plain": [
       "0.07725840007443718"
      ]
     },
     "execution_count": 7,
     "metadata": {},
     "output_type": "execute_result"
    }
   ],
   "source": [
    "# difference between mean interest for C and R channels\n",
    "\n",
    "ndf[ndf.channel=='C'].interest.mean() - ndf[ndf.channel=='R'].interest.mean()"
   ]
  },
  {
   "cell_type": "markdown",
   "metadata": {},
   "source": [
    "So, clearly there is a difference between thse two mean interest rates. But is this difference <b>*Statistically Significant*</b>?"
   ]
  },
  {
   "cell_type": "markdown",
   "metadata": {},
   "source": [
    "To test this, we consider the following hypotheses:\n",
    "\n",
    "<b>Null Hypothesis</b>: There is no significant difference between the mean interest rates for channels C and R.\n",
    "\n",
    "<b>Alternate Hypothesis</b>: The difference between the mean interest rates for channels C and R is statistically significant."
   ]
  },
  {
   "cell_type": "markdown",
   "metadata": {},
   "source": [
    "### Hypothesis Testing"
   ]
  },
  {
   "cell_type": "markdown",
   "metadata": {},
   "source": [
    "We will use a two-sample hypothesis test since the channels C, R can be thought of as two samples. Here, we will use the bootstrap method."
   ]
  },
  {
   "cell_type": "code",
   "execution_count": 5,
   "metadata": {},
   "outputs": [],
   "source": [
    "# Compute mean of all interests: mean_interest\n",
    "mean_interest = ndf.interest.mean()\n",
    "\n",
    "# difference in two means\n",
    "empirical_diff_means = ndf[ndf.channel=='C'].interest.mean() - ndf[ndf.channel=='R'].interest.mean()\n",
    "\n",
    "\n",
    "# functions for generating bootstrap replicates\n",
    "def bootstrap_replicate_1d(data, func):\n",
    "    return func(np.random.choice(data, size=len(data)))\n",
    "\n",
    "\n",
    "def draw_bs_reps(data, func, size):\n",
    "    \"\"\"Draw bootstrap replicates.\"\"\"\n",
    "\n",
    "    # Initialize array of replicates: bs_replicates\n",
    "    bs_replicates = np.empty(size)\n",
    "\n",
    "    # Generate replicates\n",
    "    for i in range(size):\n",
    "        bs_replicates[i] = bootstrap_replicate_1d(data, func)\n",
    "\n",
    "    return bs_replicates"
   ]
  },
  {
   "cell_type": "code",
   "execution_count": 12,
   "metadata": {},
   "outputs": [],
   "source": [
    "# SHIFTING the means???  -  Not done here\n",
    "\n",
    "# Cint_mean_shifted = ndf[ndf.channel=='C'].interest - ndf[ndf.channel=='C'].interest.mean() + mean_interest\n",
    "# Rint_mean_shifted = ndf[ndf.channel=='R'].interest - ndf[ndf.channel=='R'].interest.mean() + mean_interest"
   ]
  },
  {
   "cell_type": "code",
   "execution_count": 11,
   "metadata": {},
   "outputs": [],
   "source": [
    "# generating bootstrap replicates\n",
    "\n",
    "bs_replicates_C = draw_bs_reps(ndf[ndf.channel=='C'].interest, np.mean, size=100)\n",
    "bs_replicates_R = draw_bs_reps(ndf[ndf.channel=='R'].interest, np.mean, size=100)"
   ]
  },
  {
   "cell_type": "code",
   "execution_count": 12,
   "metadata": {},
   "outputs": [],
   "source": [
    "# difference between C and R in bootstrap replicates\n",
    "bs_replicates = bs_replicates_C - bs_replicates_R"
   ]
  },
  {
   "cell_type": "code",
   "execution_count": 13,
   "metadata": {},
   "outputs": [
    {
     "name": "stdout",
     "output_type": "stream",
     "text": [
      "p-value = 0.53\n"
     ]
    }
   ],
   "source": [
    "# # Compute and print p-value: p\n",
    "p = np.sum(bs_replicates >= empirical_diff_means) / len(bs_replicates)\n",
    "print('p-value =', p)"
   ]
  },
  {
   "cell_type": "code",
   "execution_count": 10,
   "metadata": {},
   "outputs": [
    {
     "data": {
      "text/plain": [
       "array([0.07777039, 0.07678189, 0.07686499, 0.07830874, 0.07670319,\n",
       "       0.07777816, 0.07731031, 0.07810242, 0.07746706, 0.07842238])"
      ]
     },
     "execution_count": 10,
     "metadata": {},
     "output_type": "execute_result"
    }
   ],
   "source": [
    "# what does this show???\n",
    "\n",
    "bs_replicates"
   ]
  },
  {
   "cell_type": "markdown",
   "metadata": {},
   "source": [
    "*Important*<br/>\n",
    "p = 0.7 with bootstrap sample size 10<br/>\n",
    "p = 0.53 with bootstrap sample size 100\n",
    "\n",
    "How to choose size??"
   ]
  },
  {
   "cell_type": "markdown",
   "metadata": {},
   "source": [
    "### Frequentist method"
   ]
  },
  {
   "cell_type": "code",
   "execution_count": 32,
   "metadata": {},
   "outputs": [
    {
     "data": {
      "text/plain": [
       "Ttest_indResult(statistic=111.37353808326525, pvalue=0.0)"
      ]
     },
     "execution_count": 32,
     "metadata": {},
     "output_type": "execute_result"
    }
   ],
   "source": [
    "from scipy.stats import ttest_ind\n",
    "ttest_ind(ndf[ndf.channel=='C'].interest, ndf[ndf.channel=='R'].interest, equal_var=False)"
   ]
  },
  {
   "cell_type": "markdown",
   "metadata": {},
   "source": [
    "## 2. Question - *Is there a general trend in the interest rates charged for defaulters and non-defaulters?*"
   ]
  },
  {
   "cell_type": "code",
   "execution_count": 14,
   "metadata": {},
   "outputs": [
    {
     "data": {
      "text/plain": [
       "3.908587672397223"
      ]
     },
     "execution_count": 14,
     "metadata": {},
     "output_type": "execute_result"
    }
   ],
   "source": [
    "# non - defaulters mean interest rate\n",
    "ndf[ndf.default_status=='0'].interest.mean()"
   ]
  },
  {
   "cell_type": "code",
   "execution_count": 15,
   "metadata": {},
   "outputs": [
    {
     "data": {
      "text/plain": [
       "4.145132667914326"
      ]
     },
     "execution_count": 15,
     "metadata": {},
     "output_type": "execute_result"
    }
   ],
   "source": [
    "# defaulters mean interest rate\n",
    "ndf[ndf.default_status=='1'].interest.mean()"
   ]
  },
  {
   "cell_type": "markdown",
   "metadata": {},
   "source": [
    "Difference"
   ]
  },
  {
   "cell_type": "code",
   "execution_count": 16,
   "metadata": {},
   "outputs": [
    {
     "data": {
      "text/plain": [
       "0.23654499551710284"
      ]
     },
     "execution_count": 16,
     "metadata": {},
     "output_type": "execute_result"
    }
   ],
   "source": [
    "diff_means1 = ndf[ndf.default_status=='1'].interest.mean() - ndf[ndf.default_status=='0'].interest.mean()\n",
    "diff_means1"
   ]
  },
  {
   "cell_type": "markdown",
   "metadata": {},
   "source": [
    "### Hypotheses:"
   ]
  },
  {
   "cell_type": "markdown",
   "metadata": {},
   "source": [
    "<b>Null Hypothesis</b>: There is no significant difference between the mean interest rates for defaulters and non-defaulters.\n",
    "\n",
    "<b>Alternate Hypothesis</b>: The difference between the mean interest rates for defaulters and non-defaulters is *statistically significant.*"
   ]
  },
  {
   "cell_type": "markdown",
   "metadata": {},
   "source": [
    "### Bootstrap test"
   ]
  },
  {
   "cell_type": "code",
   "execution_count": 20,
   "metadata": {},
   "outputs": [
    {
     "name": "stdout",
     "output_type": "stream",
     "text": [
      "p-value = 0.57\n"
     ]
    }
   ],
   "source": [
    "# Hypothesis Testing using Bootstrap sampling\n",
    "# generating bootstrap replicates\n",
    "bs_replicates_0 = draw_bs_reps(ndf[ndf.default_status=='0'].interest, np.mean, size=100)\n",
    "bs_replicates_1 = draw_bs_reps(ndf[ndf.default_status=='1'].interest, np.mean, size=100)\n",
    "\n",
    "\n",
    "# difference between C and R in bootstrap replicates\n",
    "bs_replicates1 = bs_replicates_1 - bs_replicates_0\n",
    "\n",
    "\n",
    "# # Compute and print p-value: p\n",
    "p = np.sum(bs_replicates1 >= diff_means1) / len(bs_replicates1)\n",
    "print('p-value =', p)"
   ]
  },
  {
   "cell_type": "markdown",
   "metadata": {},
   "source": [
    "### Frequentist test"
   ]
  },
  {
   "cell_type": "code",
   "execution_count": 26,
   "metadata": {},
   "outputs": [],
   "source": [
    "from scipy.stats import ttest_ind\n",
    "t, p = ttest_ind(ndf[ndf.default_status=='0'].interest, ndf[ndf.default_status=='1'].interest, equal_var=False)"
   ]
  },
  {
   "cell_type": "code",
   "execution_count": 27,
   "metadata": {},
   "outputs": [
    {
     "data": {
      "text/plain": [
       "-51.574526575730395"
      ]
     },
     "execution_count": 27,
     "metadata": {},
     "output_type": "execute_result"
    }
   ],
   "source": [
    "t"
   ]
  },
  {
   "cell_type": "code",
   "execution_count": 29,
   "metadata": {},
   "outputs": [
    {
     "name": "stdout",
     "output_type": "stream",
     "text": [
      "p-value = 0.0\n"
     ]
    }
   ],
   "source": [
    "print('p-value =', p)"
   ]
  },
  {
   "cell_type": "markdown",
   "metadata": {},
   "source": [
    "The p-value is very very small for the frequentist test as opposed to a much larger value for the bootstrap approach. The p-value is inconsistent across the two test and hence no conclusion can be drawn about the hypotheses."
   ]
  },
  {
   "cell_type": "markdown",
   "metadata": {},
   "source": [
    "## 3. Question - *Is the correlation between credit score and interest rate significant?*"
   ]
  },
  {
   "cell_type": "code",
   "execution_count": 21,
   "metadata": {},
   "outputs": [
    {
     "data": {
      "text/plain": [
       "(-0.14643477252161768, 0.0)"
      ]
     },
     "execution_count": 21,
     "metadata": {},
     "output_type": "execute_result"
    }
   ],
   "source": [
    "import scipy.stats as stats\n",
    "stats.pearsonr(ndf['credit_score'], ndf['interest'])"
   ]
  },
  {
   "cell_type": "markdown",
   "metadata": {},
   "source": [
    "We see that the correlation between credit-scores and interest rates is weak but statistically significant wrt 0.05 and 0.005 thresholds.<br/>\n",
    "*The p-values are not entirely reliable but are probably reasonable for datasets larger than 500 or so.(scipy documentation)*"
   ]
  }
 ],
 "metadata": {
  "kernelspec": {
   "display_name": "Python 3",
   "language": "python",
   "name": "python3"
  },
  "language_info": {
   "codemirror_mode": {
    "name": "ipython",
    "version": 3
   },
   "file_extension": ".py",
   "mimetype": "text/x-python",
   "name": "python",
   "nbconvert_exporter": "python",
   "pygments_lexer": "ipython3",
   "version": "3.6.5"
  }
 },
 "nbformat": 4,
 "nbformat_minor": 2
}
