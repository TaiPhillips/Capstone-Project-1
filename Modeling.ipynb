{
 "cells": [
  {
   "cell_type": "code",
   "execution_count": 1,
   "metadata": {},
   "outputs": [],
   "source": [
    "import numpy as np\n",
    "import pandas as pd\n",
    "import matplotlib.pyplot as plt"
   ]
  },
  {
   "cell_type": "code",
   "execution_count": 2,
   "metadata": {},
   "outputs": [],
   "source": [
    "from imblearn.under_sampling import TomekLinks"
   ]
  },
  {
   "cell_type": "code",
   "execution_count": 3,
   "metadata": {},
   "outputs": [
    {
     "name": "stderr",
     "output_type": "stream",
     "text": [
      "C:\\Users\\arpan\\Anaconda3\\lib\\site-packages\\IPython\\core\\interactiveshell.py:2785: DtypeWarning: Columns (4) have mixed types. Specify dtype option on import or set low_memory=False.\n",
      "  interactivity=interactivity, compiler=compiler, result=result)\n"
     ]
    },
    {
     "data": {
      "text/html": [
       "<div>\n",
       "<style scoped>\n",
       "    .dataframe tbody tr th:only-of-type {\n",
       "        vertical-align: middle;\n",
       "    }\n",
       "\n",
       "    .dataframe tbody tr th {\n",
       "        vertical-align: top;\n",
       "    }\n",
       "\n",
       "    .dataframe thead th {\n",
       "        text-align: right;\n",
       "    }\n",
       "</style>\n",
       "<table border=\"1\" class=\"dataframe\">\n",
       "  <thead>\n",
       "    <tr style=\"text-align: right;\">\n",
       "      <th></th>\n",
       "      <th>loan_id</th>\n",
       "      <th>mon_rep_dt</th>\n",
       "      <th>UPB_x</th>\n",
       "      <th>default_status</th>\n",
       "      <th>loan_age</th>\n",
       "      <th>credit_score</th>\n",
       "      <th>1st_pay_dt</th>\n",
       "      <th>1st_home</th>\n",
       "      <th>maturity_dt</th>\n",
       "      <th>MI%</th>\n",
       "      <th>...</th>\n",
       "      <th>channel</th>\n",
       "      <th>prod_type</th>\n",
       "      <th>state</th>\n",
       "      <th>home_type</th>\n",
       "      <th>zip_code</th>\n",
       "      <th>purpose</th>\n",
       "      <th>loan_term</th>\n",
       "      <th>no_borrowers</th>\n",
       "      <th>seller</th>\n",
       "      <th>servicer</th>\n",
       "    </tr>\n",
       "  </thead>\n",
       "  <tbody>\n",
       "    <tr>\n",
       "      <th>0</th>\n",
       "      <td>F115Q1000001</td>\n",
       "      <td>201610</td>\n",
       "      <td>0.00</td>\n",
       "      <td>0</td>\n",
       "      <td>18</td>\n",
       "      <td>796</td>\n",
       "      <td>201505</td>\n",
       "      <td>9</td>\n",
       "      <td>203004</td>\n",
       "      <td>0</td>\n",
       "      <td>...</td>\n",
       "      <td>R</td>\n",
       "      <td>FRM</td>\n",
       "      <td>IA</td>\n",
       "      <td>SF</td>\n",
       "      <td>51000</td>\n",
       "      <td>C</td>\n",
       "      <td>180</td>\n",
       "      <td>1</td>\n",
       "      <td>Other sellers</td>\n",
       "      <td>Other servicers</td>\n",
       "    </tr>\n",
       "    <tr>\n",
       "      <th>1</th>\n",
       "      <td>F115Q1000002</td>\n",
       "      <td>201709</td>\n",
       "      <td>100534.98</td>\n",
       "      <td>0</td>\n",
       "      <td>30</td>\n",
       "      <td>805</td>\n",
       "      <td>201504</td>\n",
       "      <td>9</td>\n",
       "      <td>204503</td>\n",
       "      <td>0</td>\n",
       "      <td>...</td>\n",
       "      <td>B</td>\n",
       "      <td>FRM</td>\n",
       "      <td>NE</td>\n",
       "      <td>SF</td>\n",
       "      <td>68500</td>\n",
       "      <td>N</td>\n",
       "      <td>360</td>\n",
       "      <td>1</td>\n",
       "      <td>Other sellers</td>\n",
       "      <td>Other servicers</td>\n",
       "    </tr>\n",
       "    <tr>\n",
       "      <th>2</th>\n",
       "      <td>F115Q1000003</td>\n",
       "      <td>201709</td>\n",
       "      <td>320369.23</td>\n",
       "      <td>0</td>\n",
       "      <td>31</td>\n",
       "      <td>730</td>\n",
       "      <td>201503</td>\n",
       "      <td>9</td>\n",
       "      <td>203002</td>\n",
       "      <td>0</td>\n",
       "      <td>...</td>\n",
       "      <td>R</td>\n",
       "      <td>FRM</td>\n",
       "      <td>KY</td>\n",
       "      <td>SF</td>\n",
       "      <td>40400</td>\n",
       "      <td>N</td>\n",
       "      <td>180</td>\n",
       "      <td>2</td>\n",
       "      <td>Other sellers</td>\n",
       "      <td>NATIONSTARMTGELLCDBA</td>\n",
       "    </tr>\n",
       "    <tr>\n",
       "      <th>3</th>\n",
       "      <td>F115Q1000004</td>\n",
       "      <td>201709</td>\n",
       "      <td>281120.77</td>\n",
       "      <td>0</td>\n",
       "      <td>29</td>\n",
       "      <td>762</td>\n",
       "      <td>201505</td>\n",
       "      <td>9</td>\n",
       "      <td>204504</td>\n",
       "      <td>0</td>\n",
       "      <td>...</td>\n",
       "      <td>R</td>\n",
       "      <td>FRM</td>\n",
       "      <td>CO</td>\n",
       "      <td>SF</td>\n",
       "      <td>81200</td>\n",
       "      <td>N</td>\n",
       "      <td>360</td>\n",
       "      <td>2</td>\n",
       "      <td>Other sellers</td>\n",
       "      <td>USBANKNA</td>\n",
       "    </tr>\n",
       "    <tr>\n",
       "      <th>4</th>\n",
       "      <td>F115Q1000005</td>\n",
       "      <td>201709</td>\n",
       "      <td>183054.42</td>\n",
       "      <td>0</td>\n",
       "      <td>29</td>\n",
       "      <td>777</td>\n",
       "      <td>201505</td>\n",
       "      <td>9</td>\n",
       "      <td>204504</td>\n",
       "      <td>0</td>\n",
       "      <td>...</td>\n",
       "      <td>R</td>\n",
       "      <td>FRM</td>\n",
       "      <td>IL</td>\n",
       "      <td>SF</td>\n",
       "      <td>61700</td>\n",
       "      <td>N</td>\n",
       "      <td>360</td>\n",
       "      <td>1</td>\n",
       "      <td>Other sellers</td>\n",
       "      <td>Other servicers</td>\n",
       "    </tr>\n",
       "  </tbody>\n",
       "</table>\n",
       "<p>5 rows × 27 columns</p>\n",
       "</div>"
      ],
      "text/plain": [
       "        loan_id  mon_rep_dt      UPB_x default_status  loan_age  credit_score  \\\n",
       "0  F115Q1000001      201610       0.00              0        18           796   \n",
       "1  F115Q1000002      201709  100534.98              0        30           805   \n",
       "2  F115Q1000003      201709  320369.23              0        31           730   \n",
       "3  F115Q1000004      201709  281120.77              0        29           762   \n",
       "4  F115Q1000005      201709  183054.42              0        29           777   \n",
       "\n",
       "   1st_pay_dt 1st_home  maturity_dt  MI%          ...           channel  \\\n",
       "0      201505        9       203004    0          ...                 R   \n",
       "1      201504        9       204503    0          ...                 B   \n",
       "2      201503        9       203002    0          ...                 R   \n",
       "3      201505        9       204504    0          ...                 R   \n",
       "4      201505        9       204504    0          ...                 R   \n",
       "\n",
       "  prod_type  state  home_type  zip_code  purpose  loan_term no_borrowers  \\\n",
       "0       FRM     IA         SF     51000        C        180            1   \n",
       "1       FRM     NE         SF     68500        N        360            1   \n",
       "2       FRM     KY         SF     40400        N        180            2   \n",
       "3       FRM     CO         SF     81200        N        360            2   \n",
       "4       FRM     IL         SF     61700        N        360            1   \n",
       "\n",
       "          seller              servicer  \n",
       "0  Other sellers       Other servicers  \n",
       "1  Other sellers       Other servicers  \n",
       "2  Other sellers  NATIONSTARMTGELLCDBA  \n",
       "3  Other sellers              USBANKNA  \n",
       "4  Other sellers       Other servicers  \n",
       "\n",
       "[5 rows x 27 columns]"
      ]
     },
     "execution_count": 3,
     "metadata": {},
     "output_type": "execute_result"
    }
   ],
   "source": [
    "# loading in the dataframe\n",
    "pdf = pd.read_csv('combined_dataframes.csv')\n",
    "pdf = pdf.drop(['Unnamed: 0'], axis=1)\n",
    "\n",
    "# Retaining only rows with 0 or 1 for defaut status\n",
    "ndf = pdf.loc[pdf['default_status'].isin(['0','1'])]\n",
    "ndf.head()"
   ]
  },
  {
   "cell_type": "markdown",
   "metadata": {},
   "source": [
    "## Pipelining"
   ]
  },
  {
   "cell_type": "code",
   "execution_count": 4,
   "metadata": {},
   "outputs": [
    {
     "data": {
      "text/html": [
       "<div>\n",
       "<style scoped>\n",
       "    .dataframe tbody tr th:only-of-type {\n",
       "        vertical-align: middle;\n",
       "    }\n",
       "\n",
       "    .dataframe tbody tr th {\n",
       "        vertical-align: top;\n",
       "    }\n",
       "\n",
       "    .dataframe thead th {\n",
       "        text-align: right;\n",
       "    }\n",
       "</style>\n",
       "<table border=\"1\" class=\"dataframe\">\n",
       "  <thead>\n",
       "    <tr style=\"text-align: right;\">\n",
       "      <th></th>\n",
       "      <th>loan_id</th>\n",
       "      <th>mon_rep_dt</th>\n",
       "      <th>UPB_x</th>\n",
       "      <th>default_status</th>\n",
       "      <th>loan_age</th>\n",
       "      <th>credit_score</th>\n",
       "      <th>1st_pay_dt</th>\n",
       "      <th>1st_home</th>\n",
       "      <th>maturity_dt</th>\n",
       "      <th>MI%</th>\n",
       "      <th>...</th>\n",
       "      <th>LTV</th>\n",
       "      <th>interest</th>\n",
       "      <th>channel</th>\n",
       "      <th>prod_type</th>\n",
       "      <th>state</th>\n",
       "      <th>home_type</th>\n",
       "      <th>zip_code</th>\n",
       "      <th>purpose</th>\n",
       "      <th>loan_term</th>\n",
       "      <th>no_borrowers</th>\n",
       "    </tr>\n",
       "  </thead>\n",
       "  <tbody>\n",
       "    <tr>\n",
       "      <th>0</th>\n",
       "      <td>F115Q1000001</td>\n",
       "      <td>201610</td>\n",
       "      <td>0.00</td>\n",
       "      <td>0</td>\n",
       "      <td>18</td>\n",
       "      <td>796</td>\n",
       "      <td>201505</td>\n",
       "      <td>9</td>\n",
       "      <td>203004</td>\n",
       "      <td>0</td>\n",
       "      <td>...</td>\n",
       "      <td>72</td>\n",
       "      <td>2.625</td>\n",
       "      <td>R</td>\n",
       "      <td>FRM</td>\n",
       "      <td>IA</td>\n",
       "      <td>SF</td>\n",
       "      <td>51000</td>\n",
       "      <td>C</td>\n",
       "      <td>180</td>\n",
       "      <td>1</td>\n",
       "    </tr>\n",
       "    <tr>\n",
       "      <th>1</th>\n",
       "      <td>F115Q1000002</td>\n",
       "      <td>201709</td>\n",
       "      <td>100534.98</td>\n",
       "      <td>0</td>\n",
       "      <td>30</td>\n",
       "      <td>805</td>\n",
       "      <td>201504</td>\n",
       "      <td>9</td>\n",
       "      <td>204503</td>\n",
       "      <td>0</td>\n",
       "      <td>...</td>\n",
       "      <td>79</td>\n",
       "      <td>3.875</td>\n",
       "      <td>B</td>\n",
       "      <td>FRM</td>\n",
       "      <td>NE</td>\n",
       "      <td>SF</td>\n",
       "      <td>68500</td>\n",
       "      <td>N</td>\n",
       "      <td>360</td>\n",
       "      <td>1</td>\n",
       "    </tr>\n",
       "    <tr>\n",
       "      <th>2</th>\n",
       "      <td>F115Q1000003</td>\n",
       "      <td>201709</td>\n",
       "      <td>320369.23</td>\n",
       "      <td>0</td>\n",
       "      <td>31</td>\n",
       "      <td>730</td>\n",
       "      <td>201503</td>\n",
       "      <td>9</td>\n",
       "      <td>203002</td>\n",
       "      <td>0</td>\n",
       "      <td>...</td>\n",
       "      <td>73</td>\n",
       "      <td>2.875</td>\n",
       "      <td>R</td>\n",
       "      <td>FRM</td>\n",
       "      <td>KY</td>\n",
       "      <td>SF</td>\n",
       "      <td>40400</td>\n",
       "      <td>N</td>\n",
       "      <td>180</td>\n",
       "      <td>2</td>\n",
       "    </tr>\n",
       "    <tr>\n",
       "      <th>3</th>\n",
       "      <td>F115Q1000004</td>\n",
       "      <td>201709</td>\n",
       "      <td>281120.77</td>\n",
       "      <td>0</td>\n",
       "      <td>29</td>\n",
       "      <td>762</td>\n",
       "      <td>201505</td>\n",
       "      <td>9</td>\n",
       "      <td>204504</td>\n",
       "      <td>0</td>\n",
       "      <td>...</td>\n",
       "      <td>70</td>\n",
       "      <td>3.375</td>\n",
       "      <td>R</td>\n",
       "      <td>FRM</td>\n",
       "      <td>CO</td>\n",
       "      <td>SF</td>\n",
       "      <td>81200</td>\n",
       "      <td>N</td>\n",
       "      <td>360</td>\n",
       "      <td>2</td>\n",
       "    </tr>\n",
       "    <tr>\n",
       "      <th>4</th>\n",
       "      <td>F115Q1000005</td>\n",
       "      <td>201709</td>\n",
       "      <td>183054.42</td>\n",
       "      <td>0</td>\n",
       "      <td>29</td>\n",
       "      <td>777</td>\n",
       "      <td>201505</td>\n",
       "      <td>9</td>\n",
       "      <td>204504</td>\n",
       "      <td>0</td>\n",
       "      <td>...</td>\n",
       "      <td>80</td>\n",
       "      <td>3.625</td>\n",
       "      <td>R</td>\n",
       "      <td>FRM</td>\n",
       "      <td>IL</td>\n",
       "      <td>SF</td>\n",
       "      <td>61700</td>\n",
       "      <td>N</td>\n",
       "      <td>360</td>\n",
       "      <td>1</td>\n",
       "    </tr>\n",
       "  </tbody>\n",
       "</table>\n",
       "<p>5 rows × 25 columns</p>\n",
       "</div>"
      ],
      "text/plain": [
       "        loan_id  mon_rep_dt      UPB_x default_status  loan_age  credit_score  \\\n",
       "0  F115Q1000001      201610       0.00              0        18           796   \n",
       "1  F115Q1000002      201709  100534.98              0        30           805   \n",
       "2  F115Q1000003      201709  320369.23              0        31           730   \n",
       "3  F115Q1000004      201709  281120.77              0        29           762   \n",
       "4  F115Q1000005      201709  183054.42              0        29           777   \n",
       "\n",
       "   1st_pay_dt 1st_home  maturity_dt  MI%     ...       LTV interest  channel  \\\n",
       "0      201505        9       203004    0     ...        72    2.625        R   \n",
       "1      201504        9       204503    0     ...        79    3.875        B   \n",
       "2      201503        9       203002    0     ...        73    2.875        R   \n",
       "3      201505        9       204504    0     ...        70    3.375        R   \n",
       "4      201505        9       204504    0     ...        80    3.625        R   \n",
       "\n",
       "   prod_type  state  home_type  zip_code purpose loan_term no_borrowers  \n",
       "0        FRM     IA         SF     51000       C       180            1  \n",
       "1        FRM     NE         SF     68500       N       360            1  \n",
       "2        FRM     KY         SF     40400       N       180            2  \n",
       "3        FRM     CO         SF     81200       N       360            2  \n",
       "4        FRM     IL         SF     61700       N       360            1  \n",
       "\n",
       "[5 rows x 25 columns]"
      ]
     },
     "execution_count": 4,
     "metadata": {},
     "output_type": "execute_result"
    }
   ],
   "source": [
    "# dropping two categorical variables that are not required\n",
    "# ndf.drop(['seller', 'servicer'], axis=1)\n",
    "del ndf['seller']\n",
    "del ndf['servicer']\n",
    "ndf.head()"
   ]
  },
  {
   "cell_type": "code",
   "execution_count": 5,
   "metadata": {},
   "outputs": [
    {
     "data": {
      "text/html": [
       "<div>\n",
       "<style scoped>\n",
       "    .dataframe tbody tr th:only-of-type {\n",
       "        vertical-align: middle;\n",
       "    }\n",
       "\n",
       "    .dataframe tbody tr th {\n",
       "        vertical-align: top;\n",
       "    }\n",
       "\n",
       "    .dataframe thead th {\n",
       "        text-align: right;\n",
       "    }\n",
       "</style>\n",
       "<table border=\"1\" class=\"dataframe\">\n",
       "  <thead>\n",
       "    <tr style=\"text-align: right;\">\n",
       "      <th></th>\n",
       "      <th>loan_id</th>\n",
       "      <th>mon_rep_dt</th>\n",
       "      <th>UPB_x</th>\n",
       "      <th>default_status</th>\n",
       "      <th>loan_age</th>\n",
       "      <th>credit_score</th>\n",
       "      <th>1st_pay_dt</th>\n",
       "      <th>1st_home</th>\n",
       "      <th>maturity_dt</th>\n",
       "      <th>MI%</th>\n",
       "      <th>...</th>\n",
       "      <th>LTV</th>\n",
       "      <th>interest</th>\n",
       "      <th>channel</th>\n",
       "      <th>prod_type</th>\n",
       "      <th>state</th>\n",
       "      <th>home_type</th>\n",
       "      <th>zip_code</th>\n",
       "      <th>purpose</th>\n",
       "      <th>loan_term</th>\n",
       "      <th>no_borrowers</th>\n",
       "    </tr>\n",
       "  </thead>\n",
       "  <tbody>\n",
       "    <tr>\n",
       "      <th>0</th>\n",
       "      <td>F115Q1000053</td>\n",
       "      <td>201512</td>\n",
       "      <td>0.00</td>\n",
       "      <td>0</td>\n",
       "      <td>10</td>\n",
       "      <td>778</td>\n",
       "      <td>201503</td>\n",
       "      <td>9</td>\n",
       "      <td>204502</td>\n",
       "      <td>25</td>\n",
       "      <td>...</td>\n",
       "      <td>90</td>\n",
       "      <td>4.250</td>\n",
       "      <td>R</td>\n",
       "      <td>FRM</td>\n",
       "      <td>CA</td>\n",
       "      <td>SF</td>\n",
       "      <td>96000</td>\n",
       "      <td>N</td>\n",
       "      <td>360</td>\n",
       "      <td>2</td>\n",
       "    </tr>\n",
       "    <tr>\n",
       "      <th>1</th>\n",
       "      <td>F115Q1000086</td>\n",
       "      <td>201709</td>\n",
       "      <td>67989.83</td>\n",
       "      <td>0</td>\n",
       "      <td>30</td>\n",
       "      <td>745</td>\n",
       "      <td>201504</td>\n",
       "      <td>9</td>\n",
       "      <td>204503</td>\n",
       "      <td>0</td>\n",
       "      <td>...</td>\n",
       "      <td>52</td>\n",
       "      <td>4.250</td>\n",
       "      <td>R</td>\n",
       "      <td>FRM</td>\n",
       "      <td>CA</td>\n",
       "      <td>SF</td>\n",
       "      <td>95900</td>\n",
       "      <td>C</td>\n",
       "      <td>360</td>\n",
       "      <td>2</td>\n",
       "    </tr>\n",
       "    <tr>\n",
       "      <th>2</th>\n",
       "      <td>F115Q1000131</td>\n",
       "      <td>201709</td>\n",
       "      <td>72405.01</td>\n",
       "      <td>0</td>\n",
       "      <td>30</td>\n",
       "      <td>774</td>\n",
       "      <td>201504</td>\n",
       "      <td>9</td>\n",
       "      <td>204503</td>\n",
       "      <td>0</td>\n",
       "      <td>...</td>\n",
       "      <td>73</td>\n",
       "      <td>4.250</td>\n",
       "      <td>R</td>\n",
       "      <td>FRM</td>\n",
       "      <td>CA</td>\n",
       "      <td>SF</td>\n",
       "      <td>93600</td>\n",
       "      <td>N</td>\n",
       "      <td>360</td>\n",
       "      <td>2</td>\n",
       "    </tr>\n",
       "    <tr>\n",
       "      <th>3</th>\n",
       "      <td>F115Q1000174</td>\n",
       "      <td>201709</td>\n",
       "      <td>152368.91</td>\n",
       "      <td>0</td>\n",
       "      <td>31</td>\n",
       "      <td>804</td>\n",
       "      <td>201503</td>\n",
       "      <td>9</td>\n",
       "      <td>204502</td>\n",
       "      <td>0</td>\n",
       "      <td>...</td>\n",
       "      <td>45</td>\n",
       "      <td>4.250</td>\n",
       "      <td>R</td>\n",
       "      <td>FRM</td>\n",
       "      <td>CA</td>\n",
       "      <td>SF</td>\n",
       "      <td>95900</td>\n",
       "      <td>N</td>\n",
       "      <td>360</td>\n",
       "      <td>1</td>\n",
       "    </tr>\n",
       "    <tr>\n",
       "      <th>4</th>\n",
       "      <td>F115Q1000202</td>\n",
       "      <td>201709</td>\n",
       "      <td>129933.06</td>\n",
       "      <td>0</td>\n",
       "      <td>31</td>\n",
       "      <td>820</td>\n",
       "      <td>201503</td>\n",
       "      <td>9</td>\n",
       "      <td>204502</td>\n",
       "      <td>0</td>\n",
       "      <td>...</td>\n",
       "      <td>20</td>\n",
       "      <td>3.875</td>\n",
       "      <td>R</td>\n",
       "      <td>FRM</td>\n",
       "      <td>CA</td>\n",
       "      <td>SF</td>\n",
       "      <td>91700</td>\n",
       "      <td>N</td>\n",
       "      <td>360</td>\n",
       "      <td>1</td>\n",
       "    </tr>\n",
       "  </tbody>\n",
       "</table>\n",
       "<p>5 rows × 25 columns</p>\n",
       "</div>"
      ],
      "text/plain": [
       "        loan_id  mon_rep_dt      UPB_x default_status  loan_age  credit_score  \\\n",
       "0  F115Q1000053      201512       0.00              0        10           778   \n",
       "1  F115Q1000086      201709   67989.83              0        30           745   \n",
       "2  F115Q1000131      201709   72405.01              0        30           774   \n",
       "3  F115Q1000174      201709  152368.91              0        31           804   \n",
       "4  F115Q1000202      201709  129933.06              0        31           820   \n",
       "\n",
       "   1st_pay_dt 1st_home  maturity_dt  MI%     ...       LTV interest  channel  \\\n",
       "0      201503        9       204502   25     ...        90    4.250        R   \n",
       "1      201504        9       204503    0     ...        52    4.250        R   \n",
       "2      201504        9       204503    0     ...        73    4.250        R   \n",
       "3      201503        9       204502    0     ...        45    4.250        R   \n",
       "4      201503        9       204502    0     ...        20    3.875        R   \n",
       "\n",
       "   prod_type  state  home_type  zip_code purpose loan_term no_borrowers  \n",
       "0        FRM     CA         SF     96000       N       360            2  \n",
       "1        FRM     CA         SF     95900       C       360            2  \n",
       "2        FRM     CA         SF     93600       N       360            2  \n",
       "3        FRM     CA         SF     95900       N       360            1  \n",
       "4        FRM     CA         SF     91700       N       360            1  \n",
       "\n",
       "[5 rows x 25 columns]"
      ]
     },
     "execution_count": 5,
     "metadata": {},
     "output_type": "execute_result"
    }
   ],
   "source": [
    "# keeping only CALIFORNIA observations in data - to model using a subset of original data \n",
    "state_df = ndf.loc[ndf['state'] == 'CA']\n",
    "\n",
    "# resetting index to start from 0\n",
    "state_df = state_df.reset_index(drop=True)\n",
    "state_df.head()"
   ]
  },
  {
   "cell_type": "code",
   "execution_count": 6,
   "metadata": {},
   "outputs": [
    {
     "data": {
      "text/html": [
       "<div>\n",
       "<style scoped>\n",
       "    .dataframe tbody tr th:only-of-type {\n",
       "        vertical-align: middle;\n",
       "    }\n",
       "\n",
       "    .dataframe tbody tr th {\n",
       "        vertical-align: top;\n",
       "    }\n",
       "\n",
       "    .dataframe thead th {\n",
       "        text-align: right;\n",
       "    }\n",
       "</style>\n",
       "<table border=\"1\" class=\"dataframe\">\n",
       "  <thead>\n",
       "    <tr style=\"text-align: right;\">\n",
       "      <th></th>\n",
       "      <th>loan_id</th>\n",
       "      <th>mon_rep_dt</th>\n",
       "      <th>UPB_x</th>\n",
       "      <th>default_status</th>\n",
       "      <th>loan_age</th>\n",
       "      <th>credit_score</th>\n",
       "      <th>1st_pay_dt</th>\n",
       "      <th>maturity_dt</th>\n",
       "      <th>MI%</th>\n",
       "      <th>num_units</th>\n",
       "      <th>...</th>\n",
       "      <th>channel_R</th>\n",
       "      <th>prod_type_FRM</th>\n",
       "      <th>home_type_CO</th>\n",
       "      <th>home_type_CP</th>\n",
       "      <th>home_type_MH</th>\n",
       "      <th>home_type_PU</th>\n",
       "      <th>home_type_SF</th>\n",
       "      <th>purpose_C</th>\n",
       "      <th>purpose_N</th>\n",
       "      <th>purpose_P</th>\n",
       "    </tr>\n",
       "  </thead>\n",
       "  <tbody>\n",
       "    <tr>\n",
       "      <th>0</th>\n",
       "      <td>F115Q1000053</td>\n",
       "      <td>201512</td>\n",
       "      <td>0.00</td>\n",
       "      <td>0</td>\n",
       "      <td>10</td>\n",
       "      <td>778</td>\n",
       "      <td>201503</td>\n",
       "      <td>204502</td>\n",
       "      <td>25</td>\n",
       "      <td>1</td>\n",
       "      <td>...</td>\n",
       "      <td>1</td>\n",
       "      <td>1</td>\n",
       "      <td>0</td>\n",
       "      <td>0</td>\n",
       "      <td>0</td>\n",
       "      <td>0</td>\n",
       "      <td>1</td>\n",
       "      <td>0</td>\n",
       "      <td>1</td>\n",
       "      <td>0</td>\n",
       "    </tr>\n",
       "    <tr>\n",
       "      <th>1</th>\n",
       "      <td>F115Q1000086</td>\n",
       "      <td>201709</td>\n",
       "      <td>67989.83</td>\n",
       "      <td>0</td>\n",
       "      <td>30</td>\n",
       "      <td>745</td>\n",
       "      <td>201504</td>\n",
       "      <td>204503</td>\n",
       "      <td>0</td>\n",
       "      <td>1</td>\n",
       "      <td>...</td>\n",
       "      <td>1</td>\n",
       "      <td>1</td>\n",
       "      <td>0</td>\n",
       "      <td>0</td>\n",
       "      <td>0</td>\n",
       "      <td>0</td>\n",
       "      <td>1</td>\n",
       "      <td>1</td>\n",
       "      <td>0</td>\n",
       "      <td>0</td>\n",
       "    </tr>\n",
       "    <tr>\n",
       "      <th>2</th>\n",
       "      <td>F115Q1000131</td>\n",
       "      <td>201709</td>\n",
       "      <td>72405.01</td>\n",
       "      <td>0</td>\n",
       "      <td>30</td>\n",
       "      <td>774</td>\n",
       "      <td>201504</td>\n",
       "      <td>204503</td>\n",
       "      <td>0</td>\n",
       "      <td>1</td>\n",
       "      <td>...</td>\n",
       "      <td>1</td>\n",
       "      <td>1</td>\n",
       "      <td>0</td>\n",
       "      <td>0</td>\n",
       "      <td>0</td>\n",
       "      <td>0</td>\n",
       "      <td>1</td>\n",
       "      <td>0</td>\n",
       "      <td>1</td>\n",
       "      <td>0</td>\n",
       "    </tr>\n",
       "    <tr>\n",
       "      <th>3</th>\n",
       "      <td>F115Q1000174</td>\n",
       "      <td>201709</td>\n",
       "      <td>152368.91</td>\n",
       "      <td>0</td>\n",
       "      <td>31</td>\n",
       "      <td>804</td>\n",
       "      <td>201503</td>\n",
       "      <td>204502</td>\n",
       "      <td>0</td>\n",
       "      <td>1</td>\n",
       "      <td>...</td>\n",
       "      <td>1</td>\n",
       "      <td>1</td>\n",
       "      <td>0</td>\n",
       "      <td>0</td>\n",
       "      <td>0</td>\n",
       "      <td>0</td>\n",
       "      <td>1</td>\n",
       "      <td>0</td>\n",
       "      <td>1</td>\n",
       "      <td>0</td>\n",
       "    </tr>\n",
       "    <tr>\n",
       "      <th>4</th>\n",
       "      <td>F115Q1000202</td>\n",
       "      <td>201709</td>\n",
       "      <td>129933.06</td>\n",
       "      <td>0</td>\n",
       "      <td>31</td>\n",
       "      <td>820</td>\n",
       "      <td>201503</td>\n",
       "      <td>204502</td>\n",
       "      <td>0</td>\n",
       "      <td>1</td>\n",
       "      <td>...</td>\n",
       "      <td>1</td>\n",
       "      <td>1</td>\n",
       "      <td>0</td>\n",
       "      <td>0</td>\n",
       "      <td>0</td>\n",
       "      <td>0</td>\n",
       "      <td>1</td>\n",
       "      <td>0</td>\n",
       "      <td>1</td>\n",
       "      <td>0</td>\n",
       "    </tr>\n",
       "  </tbody>\n",
       "</table>\n",
       "<p>5 rows × 37 columns</p>\n",
       "</div>"
      ],
      "text/plain": [
       "        loan_id  mon_rep_dt      UPB_x default_status  loan_age  credit_score  \\\n",
       "0  F115Q1000053      201512       0.00              0        10           778   \n",
       "1  F115Q1000086      201709   67989.83              0        30           745   \n",
       "2  F115Q1000131      201709   72405.01              0        30           774   \n",
       "3  F115Q1000174      201709  152368.91              0        31           804   \n",
       "4  F115Q1000202      201709  129933.06              0        31           820   \n",
       "\n",
       "   1st_pay_dt  maturity_dt  MI%  num_units    ...      channel_R  \\\n",
       "0      201503       204502   25          1    ...              1   \n",
       "1      201504       204503    0          1    ...              1   \n",
       "2      201504       204503    0          1    ...              1   \n",
       "3      201503       204502    0          1    ...              1   \n",
       "4      201503       204502    0          1    ...              1   \n",
       "\n",
       "   prod_type_FRM  home_type_CO  home_type_CP  home_type_MH home_type_PU  \\\n",
       "0              1             0             0             0            0   \n",
       "1              1             0             0             0            0   \n",
       "2              1             0             0             0            0   \n",
       "3              1             0             0             0            0   \n",
       "4              1             0             0             0            0   \n",
       "\n",
       "   home_type_SF  purpose_C  purpose_N  purpose_P  \n",
       "0             1          0          1          0  \n",
       "1             1          1          0          0  \n",
       "2             1          0          1          0  \n",
       "3             1          0          1          0  \n",
       "4             1          0          1          0  \n",
       "\n",
       "[5 rows x 37 columns]"
      ]
     },
     "execution_count": 6,
     "metadata": {},
     "output_type": "execute_result"
    }
   ],
   "source": [
    "# creating dummy variables for categorical features in data\n",
    "ddf = pd.get_dummies(state_df, prefix=['1st_home', 'occupancy', 'channel', 'prod_type', 'home_type', 'purpose'],\n",
    "                     columns=['1st_home', 'occupancy', 'channel', 'prod_type', 'home_type', 'purpose'])\n",
    "ddf.head()"
   ]
  },
  {
   "cell_type": "code",
   "execution_count": 7,
   "metadata": {},
   "outputs": [
    {
     "data": {
      "text/html": [
       "<div>\n",
       "<style scoped>\n",
       "    .dataframe tbody tr th:only-of-type {\n",
       "        vertical-align: middle;\n",
       "    }\n",
       "\n",
       "    .dataframe tbody tr th {\n",
       "        vertical-align: top;\n",
       "    }\n",
       "\n",
       "    .dataframe thead th {\n",
       "        text-align: right;\n",
       "    }\n",
       "</style>\n",
       "<table border=\"1\" class=\"dataframe\">\n",
       "  <thead>\n",
       "    <tr style=\"text-align: right;\">\n",
       "      <th></th>\n",
       "      <th>loan_id</th>\n",
       "      <th>UPB_x</th>\n",
       "      <th>default_status</th>\n",
       "      <th>loan_age</th>\n",
       "      <th>credit_score</th>\n",
       "      <th>MI%</th>\n",
       "      <th>num_units</th>\n",
       "      <th>CLTV</th>\n",
       "      <th>DTI</th>\n",
       "      <th>UPB_y</th>\n",
       "      <th>...</th>\n",
       "      <th>channel_R</th>\n",
       "      <th>prod_type_FRM</th>\n",
       "      <th>home_type_CO</th>\n",
       "      <th>home_type_CP</th>\n",
       "      <th>home_type_MH</th>\n",
       "      <th>home_type_PU</th>\n",
       "      <th>home_type_SF</th>\n",
       "      <th>purpose_C</th>\n",
       "      <th>purpose_N</th>\n",
       "      <th>purpose_P</th>\n",
       "    </tr>\n",
       "  </thead>\n",
       "  <tbody>\n",
       "    <tr>\n",
       "      <th>0</th>\n",
       "      <td>F115Q1000053</td>\n",
       "      <td>0.00</td>\n",
       "      <td>0</td>\n",
       "      <td>10</td>\n",
       "      <td>778</td>\n",
       "      <td>25</td>\n",
       "      <td>1</td>\n",
       "      <td>90</td>\n",
       "      <td>49</td>\n",
       "      <td>260000</td>\n",
       "      <td>...</td>\n",
       "      <td>1</td>\n",
       "      <td>1</td>\n",
       "      <td>0</td>\n",
       "      <td>0</td>\n",
       "      <td>0</td>\n",
       "      <td>0</td>\n",
       "      <td>1</td>\n",
       "      <td>0</td>\n",
       "      <td>1</td>\n",
       "      <td>0</td>\n",
       "    </tr>\n",
       "    <tr>\n",
       "      <th>1</th>\n",
       "      <td>F115Q1000086</td>\n",
       "      <td>67989.83</td>\n",
       "      <td>0</td>\n",
       "      <td>30</td>\n",
       "      <td>745</td>\n",
       "      <td>0</td>\n",
       "      <td>1</td>\n",
       "      <td>52</td>\n",
       "      <td>38</td>\n",
       "      <td>84000</td>\n",
       "      <td>...</td>\n",
       "      <td>1</td>\n",
       "      <td>1</td>\n",
       "      <td>0</td>\n",
       "      <td>0</td>\n",
       "      <td>0</td>\n",
       "      <td>0</td>\n",
       "      <td>1</td>\n",
       "      <td>1</td>\n",
       "      <td>0</td>\n",
       "      <td>0</td>\n",
       "    </tr>\n",
       "    <tr>\n",
       "      <th>2</th>\n",
       "      <td>F115Q1000131</td>\n",
       "      <td>72405.01</td>\n",
       "      <td>0</td>\n",
       "      <td>30</td>\n",
       "      <td>774</td>\n",
       "      <td>0</td>\n",
       "      <td>1</td>\n",
       "      <td>73</td>\n",
       "      <td>46</td>\n",
       "      <td>76000</td>\n",
       "      <td>...</td>\n",
       "      <td>1</td>\n",
       "      <td>1</td>\n",
       "      <td>0</td>\n",
       "      <td>0</td>\n",
       "      <td>0</td>\n",
       "      <td>0</td>\n",
       "      <td>1</td>\n",
       "      <td>0</td>\n",
       "      <td>1</td>\n",
       "      <td>0</td>\n",
       "    </tr>\n",
       "    <tr>\n",
       "      <th>3</th>\n",
       "      <td>F115Q1000174</td>\n",
       "      <td>152368.91</td>\n",
       "      <td>0</td>\n",
       "      <td>31</td>\n",
       "      <td>804</td>\n",
       "      <td>0</td>\n",
       "      <td>1</td>\n",
       "      <td>45</td>\n",
       "      <td>26</td>\n",
       "      <td>160000</td>\n",
       "      <td>...</td>\n",
       "      <td>1</td>\n",
       "      <td>1</td>\n",
       "      <td>0</td>\n",
       "      <td>0</td>\n",
       "      <td>0</td>\n",
       "      <td>0</td>\n",
       "      <td>1</td>\n",
       "      <td>0</td>\n",
       "      <td>1</td>\n",
       "      <td>0</td>\n",
       "    </tr>\n",
       "    <tr>\n",
       "      <th>4</th>\n",
       "      <td>F115Q1000202</td>\n",
       "      <td>129933.06</td>\n",
       "      <td>0</td>\n",
       "      <td>31</td>\n",
       "      <td>820</td>\n",
       "      <td>0</td>\n",
       "      <td>1</td>\n",
       "      <td>20</td>\n",
       "      <td>14</td>\n",
       "      <td>137000</td>\n",
       "      <td>...</td>\n",
       "      <td>1</td>\n",
       "      <td>1</td>\n",
       "      <td>0</td>\n",
       "      <td>0</td>\n",
       "      <td>0</td>\n",
       "      <td>0</td>\n",
       "      <td>1</td>\n",
       "      <td>0</td>\n",
       "      <td>1</td>\n",
       "      <td>0</td>\n",
       "    </tr>\n",
       "  </tbody>\n",
       "</table>\n",
       "<p>5 rows × 34 columns</p>\n",
       "</div>"
      ],
      "text/plain": [
       "        loan_id      UPB_x default_status  loan_age  credit_score  MI%  \\\n",
       "0  F115Q1000053       0.00              0        10           778   25   \n",
       "1  F115Q1000086   67989.83              0        30           745    0   \n",
       "2  F115Q1000131   72405.01              0        30           774    0   \n",
       "3  F115Q1000174  152368.91              0        31           804    0   \n",
       "4  F115Q1000202  129933.06              0        31           820    0   \n",
       "\n",
       "   num_units  CLTV  DTI   UPB_y    ...      channel_R  prod_type_FRM  \\\n",
       "0          1    90   49  260000    ...              1              1   \n",
       "1          1    52   38   84000    ...              1              1   \n",
       "2          1    73   46   76000    ...              1              1   \n",
       "3          1    45   26  160000    ...              1              1   \n",
       "4          1    20   14  137000    ...              1              1   \n",
       "\n",
       "  home_type_CO  home_type_CP  home_type_MH  home_type_PU  home_type_SF  \\\n",
       "0            0             0             0             0             1   \n",
       "1            0             0             0             0             1   \n",
       "2            0             0             0             0             1   \n",
       "3            0             0             0             0             1   \n",
       "4            0             0             0             0             1   \n",
       "\n",
       "   purpose_C  purpose_N  purpose_P  \n",
       "0          0          1          0  \n",
       "1          1          0          0  \n",
       "2          0          1          0  \n",
       "3          0          1          0  \n",
       "4          0          1          0  \n",
       "\n",
       "[5 rows x 34 columns]"
      ]
     },
     "execution_count": 7,
     "metadata": {},
     "output_type": "execute_result"
    }
   ],
   "source": [
    "# dropping date features - since not useful\n",
    "ddf.drop(['mon_rep_dt', '1st_pay_dt', 'maturity_dt'], axis=1).head()"
   ]
  },
  {
   "cell_type": "code",
   "execution_count": 8,
   "metadata": {},
   "outputs": [],
   "source": [
    "# Pre-processing\n",
    "X = ddf.drop(['loan_id', 'default_status', 'state'], axis=1)  \n",
    "y = ddf['default_status']"
   ]
  },
  {
   "cell_type": "code",
   "execution_count": 9,
   "metadata": {},
   "outputs": [],
   "source": [
    "# Test-Train split\n",
    "from sklearn.model_selection import train_test_split  \n",
    "X_train, X_test, y_train, y_test = train_test_split(X, y, test_size=0.30)"
   ]
  },
  {
   "cell_type": "markdown",
   "metadata": {},
   "source": [
    "## 1. Logistic Regression"
   ]
  },
  {
   "cell_type": "code",
   "execution_count": 10,
   "metadata": {},
   "outputs": [
    {
     "name": "stderr",
     "output_type": "stream",
     "text": [
      "C:\\Users\\arpan\\Anaconda3\\lib\\site-packages\\sklearn\\linear_model\\logistic.py:432: FutureWarning: Default solver will be changed to 'lbfgs' in 0.22. Specify a solver to silence this warning.\n",
      "  FutureWarning)\n"
     ]
    }
   ],
   "source": [
    "# Training\n",
    "from sklearn.linear_model import LogisticRegression\n",
    "logmodel = LogisticRegression()\n",
    "logmodel.fit(X_train,y_train)\n",
    "\n",
    "# Prediction\n",
    "predictions = logmodel.predict(X_test)\n",
    "predictions_training = logmodel.predict(X_train)"
   ]
  },
  {
   "cell_type": "code",
   "execution_count": 11,
   "metadata": {},
   "outputs": [
    {
     "ename": "NameError",
     "evalue": "name 'classification_report' is not defined",
     "output_type": "error",
     "traceback": [
      "\u001b[1;31m---------------------------------------------------------------------------\u001b[0m",
      "\u001b[1;31mNameError\u001b[0m                                 Traceback (most recent call last)",
      "\u001b[1;32m<ipython-input-11-829155e85403>\u001b[0m in \u001b[0;36m<module>\u001b[1;34m()\u001b[0m\n\u001b[1;32m----> 1\u001b[1;33m \u001b[0mprint\u001b[0m\u001b[1;33m(\u001b[0m\u001b[0mclassification_report\u001b[0m\u001b[1;33m(\u001b[0m\u001b[0my_train\u001b[0m\u001b[1;33m,\u001b[0m\u001b[0mpredictions_training\u001b[0m\u001b[1;33m)\u001b[0m\u001b[1;33m)\u001b[0m\u001b[1;33m\u001b[0m\u001b[0m\n\u001b[0m",
      "\u001b[1;31mNameError\u001b[0m: name 'classification_report' is not defined"
     ]
    }
   ],
   "source": [
    "print(classification_report(y_train,predictions_training))"
   ]
  },
  {
   "cell_type": "code",
   "execution_count": 12,
   "metadata": {
    "scrolled": false
   },
   "outputs": [
    {
     "name": "stderr",
     "output_type": "stream",
     "text": [
      "C:\\Users\\arpan\\Anaconda3\\lib\\site-packages\\sklearn\\metrics\\classification.py:1143: UndefinedMetricWarning: Precision and F-score are ill-defined and being set to 0.0 in labels with no predicted samples.\n",
      "  'precision', 'predicted', average, warn_for)\n"
     ]
    },
    {
     "name": "stdout",
     "output_type": "stream",
     "text": [
      "              precision    recall  f1-score   support\n",
      "\n",
      "           0       1.00      1.00      1.00     97746\n",
      "           1       0.00      0.00      0.00       427\n",
      "\n",
      "   micro avg       1.00      1.00      1.00     98173\n",
      "   macro avg       0.50      0.50      0.50     98173\n",
      "weighted avg       0.99      1.00      0.99     98173\n",
      "\n"
     ]
    }
   ],
   "source": [
    "# Evaluation - 1\n",
    "from sklearn.metrics import classification_report\n",
    "print(classification_report(y_test,predictions))"
   ]
  },
  {
   "cell_type": "code",
   "execution_count": 13,
   "metadata": {},
   "outputs": [
    {
     "name": "stderr",
     "output_type": "stream",
     "text": [
      "C:\\Users\\arpan\\Anaconda3\\lib\\site-packages\\sklearn\\preprocessing\\data.py:617: DataConversionWarning: Data with input dtype uint8, int64, float64 were all converted to float64 by StandardScaler.\n",
      "  return self.partial_fit(X, y)\n",
      "C:\\Users\\arpan\\Anaconda3\\lib\\site-packages\\ipykernel_launcher.py:6: DataConversionWarning: Data with input dtype uint8, int64, float64 were all converted to float64 by StandardScaler.\n",
      "  \n",
      "C:\\Users\\arpan\\Anaconda3\\lib\\site-packages\\ipykernel_launcher.py:7: DataConversionWarning: Data with input dtype uint8, int64, float64 were all converted to float64 by StandardScaler.\n",
      "  import sys\n"
     ]
    }
   ],
   "source": [
    "# Feature scaling\n",
    "from sklearn.preprocessing import StandardScaler  \n",
    "scaler = StandardScaler()  \n",
    "scaler.fit(X_train)\n",
    "\n",
    "X_train = scaler.transform(X_train)  \n",
    "X_test = scaler.transform(X_test)"
   ]
  },
  {
   "cell_type": "code",
   "execution_count": 14,
   "metadata": {},
   "outputs": [
    {
     "name": "stderr",
     "output_type": "stream",
     "text": [
      "C:\\Users\\arpan\\Anaconda3\\lib\\site-packages\\sklearn\\linear_model\\logistic.py:432: FutureWarning: Default solver will be changed to 'lbfgs' in 0.22. Specify a solver to silence this warning.\n",
      "  FutureWarning)\n",
      "C:\\Users\\arpan\\Anaconda3\\lib\\site-packages\\sklearn\\metrics\\classification.py:1143: UndefinedMetricWarning: Precision and F-score are ill-defined and being set to 0.0 in labels with no predicted samples.\n",
      "  'precision', 'predicted', average, warn_for)\n"
     ]
    },
    {
     "name": "stdout",
     "output_type": "stream",
     "text": [
      "              precision    recall  f1-score   support\n",
      "\n",
      "           0       1.00      1.00      1.00     97746\n",
      "           1       0.00      0.00      0.00       427\n",
      "\n",
      "   micro avg       1.00      1.00      1.00     98173\n",
      "   macro avg       0.50      0.50      0.50     98173\n",
      "weighted avg       0.99      1.00      0.99     98173\n",
      "\n"
     ]
    }
   ],
   "source": [
    "# Training\n",
    "logmodel = LogisticRegression()\n",
    "logmodel.fit(X_train,y_train)\n",
    "\n",
    "# Prediction\n",
    "predictions = logmodel.predict(X_test)\n",
    "\n",
    "# Evaluation\n",
    "print(classification_report(y_test,predictions))"
   ]
  },
  {
   "cell_type": "code",
   "execution_count": 15,
   "metadata": {},
   "outputs": [
    {
     "name": "stdout",
     "output_type": "stream",
     "text": [
      "Accuracy of logistic regression classifier on test set: 1.00\n"
     ]
    }
   ],
   "source": [
    "# Accuracy\n",
    "print('Accuracy of logistic regression classifier on test set: {:.2f}'.format(logmodel.score(X_test, y_test)))"
   ]
  },
  {
   "cell_type": "code",
   "execution_count": 16,
   "metadata": {},
   "outputs": [],
   "source": [
    "from collections import Counter"
   ]
  },
  {
   "cell_type": "markdown",
   "metadata": {},
   "source": [
    "## 2. KNN"
   ]
  },
  {
   "cell_type": "code",
   "execution_count": null,
   "metadata": {},
   "outputs": [],
   "source": [
    "# Training\n",
    "# from sklearn.neighbors import KNeighborsClassifier  \n",
    "# classifier = KNeighborsClassifier(n_neighbors=5)  \n",
    "# classifier.fit(X_train, y_train)\n",
    "\n",
    "# # Prdiction\n",
    "# y_pred = classifier.predict(X_test)"
   ]
  },
  {
   "cell_type": "code",
   "execution_count": null,
   "metadata": {
    "scrolled": true
   },
   "outputs": [],
   "source": [
    "# Evaluation\n",
    "# from sklearn.metrics import classification_report, confusion_matrix  \n",
    "# print(confusion_matrix(y_test, y_pred))  \n",
    "# print(classification_report(y_test, y_pred))"
   ]
  },
  {
   "cell_type": "markdown",
   "metadata": {},
   "source": [
    "# Conclusion"
   ]
  },
  {
   "cell_type": "markdown",
   "metadata": {},
   "source": [
    "# Next\n",
    "\n",
    "1. choose resampling method - 3/4 under and oversampling each\n",
    "2. choose class algo - RF , XGBoost"
   ]
  },
  {
   "cell_type": "code",
   "execution_count": null,
   "metadata": {},
   "outputs": [],
   "source": [
    "1.Train-test split\n",
    "2. For given resampling method and classification algo do the following:\n",
    "    a. Resample training set to create new training set\n",
    "    b. Train classificaton algo with training set from a, possibly using hyper param tuning\n",
    "3. Get classification report for model trained in 2 using test set\n",
    "4. Repeat for eery combo of resampling method and classificaton algo\n",
    "5. Create a matrix/table containng all classification report so methods can be compared against each other"
   ]
  },
  {
   "cell_type": "code",
   "execution_count": null,
   "metadata": {},
   "outputs": [],
   "source": [
    "US:Random undersampling\n",
    "    \n",
    "OS:\n",
    "SMOTE\n",
    "adasyn"
   ]
  },
  {
   "cell_type": "markdown",
   "metadata": {},
   "source": [
    "## 1. Undersampling"
   ]
  },
  {
   "cell_type": "markdown",
   "metadata": {},
   "source": [
    "### Random Under Sampling"
   ]
  },
  {
   "cell_type": "code",
   "execution_count": 18,
   "metadata": {},
   "outputs": [],
   "source": [
    "from imblearn.under_sampling import RandomUnderSampler"
   ]
  },
  {
   "cell_type": "code",
   "execution_count": 21,
   "metadata": {},
   "outputs": [],
   "source": [
    "# RandomUnderSampler\n",
    "rus = RandomUnderSampler(random_state=0)\n",
    "X_resampled, y_resampled = rus.fit_sample(X, y)"
   ]
  },
  {
   "cell_type": "code",
   "execution_count": 22,
   "metadata": {},
   "outputs": [
    {
     "name": "stdout",
     "output_type": "stream",
     "text": [
      "Random undersampling Counter({'0': 1439, '1': 1439})\n"
     ]
    }
   ],
   "source": [
    "print('Random undersampling {}'.format(Counter(y_resampled)))"
   ]
  },
  {
   "cell_type": "markdown",
   "metadata": {},
   "source": [
    "### Logistic Regrssion"
   ]
  },
  {
   "cell_type": "code",
   "execution_count": 23,
   "metadata": {},
   "outputs": [
    {
     "name": "stderr",
     "output_type": "stream",
     "text": [
      "C:\\Users\\arpan\\Anaconda3\\lib\\site-packages\\sklearn\\linear_model\\logistic.py:432: FutureWarning: Default solver will be changed to 'lbfgs' in 0.22. Specify a solver to silence this warning.\n",
      "  FutureWarning)\n"
     ]
    },
    {
     "name": "stdout",
     "output_type": "stream",
     "text": [
      "              precision    recall  f1-score   support\n",
      "\n",
      "           0       1.00      0.51      0.68     97746\n",
      "           1       0.01      0.83      0.01       427\n",
      "\n",
      "   micro avg       0.51      0.51      0.51     98173\n",
      "   macro avg       0.50      0.67      0.35     98173\n",
      "weighted avg       0.99      0.51      0.68     98173\n",
      "\n"
     ]
    }
   ],
   "source": [
    "# Training\n",
    "logmodel = LogisticRegression()\n",
    "logmodel.fit(X_resampled,y_resampled)\n",
    "\n",
    "# Prediction\n",
    "predictions = logmodel.predict(X_test)\n",
    "\n",
    "# Evaluation\n",
    "print(classification_report(y_test,predictions))"
   ]
  },
  {
   "cell_type": "markdown",
   "metadata": {},
   "source": [
    "### Random Forest"
   ]
  },
  {
   "cell_type": "code",
   "execution_count": 24,
   "metadata": {},
   "outputs": [],
   "source": [
    "from sklearn.ensemble import RandomForestClassifier"
   ]
  },
  {
   "cell_type": "code",
   "execution_count": 25,
   "metadata": {},
   "outputs": [
    {
     "name": "stderr",
     "output_type": "stream",
     "text": [
      "C:\\Users\\arpan\\Anaconda3\\lib\\site-packages\\sklearn\\ensemble\\forest.py:248: FutureWarning: The default value of n_estimators will change from 10 in version 0.20 to 100 in 0.22.\n",
      "  \"10 in version 0.20 to 100 in 0.22.\", FutureWarning)\n"
     ]
    },
    {
     "name": "stdout",
     "output_type": "stream",
     "text": [
      "              precision    recall  f1-score   support\n",
      "\n",
      "           0       1.00      0.92      0.96     97746\n",
      "           1       0.00      0.07      0.01       427\n",
      "\n",
      "   micro avg       0.92      0.92      0.92     98173\n",
      "   macro avg       0.50      0.49      0.48     98173\n",
      "weighted avg       0.99      0.92      0.95     98173\n",
      "\n"
     ]
    }
   ],
   "source": [
    "# Training\n",
    "clf=RandomForestClassifier()\n",
    "# n_estimators=100\n",
    "clf.fit(X_resampled,y_resampled)\n",
    "\n",
    "# Prediction\n",
    "predictions=clf.predict(X_test)\n",
    "\n",
    "# Evaluation\n",
    "print(classification_report(y_test,predictions))"
   ]
  },
  {
   "cell_type": "code",
   "execution_count": 26,
   "metadata": {},
   "outputs": [
    {
     "name": "stdout",
     "output_type": "stream",
     "text": [
      "Accuracy: 0.9169527263096778\n"
     ]
    }
   ],
   "source": [
    "#Import scikit-learn metrics module for accuracy calculation\n",
    "from sklearn import metrics\n",
    "# Model Accuracy, how often is the classifier correct?\n",
    "print(\"Accuracy:\",metrics.accuracy_score(y_test, predictions))"
   ]
  },
  {
   "cell_type": "markdown",
   "metadata": {},
   "source": [
    "## 2. Oversampling"
   ]
  },
  {
   "cell_type": "markdown",
   "metadata": {},
   "source": [
    "### (i) SMOTE"
   ]
  },
  {
   "cell_type": "code",
   "execution_count": 27,
   "metadata": {},
   "outputs": [],
   "source": [
    "from imblearn.over_sampling import SMOTE"
   ]
  },
  {
   "cell_type": "code",
   "execution_count": 28,
   "metadata": {},
   "outputs": [
    {
     "name": "stdout",
     "output_type": "stream",
     "text": [
      "Resampled dataset shape Counter({'0': 325804, '1': 325804})\n"
     ]
    }
   ],
   "source": [
    "sm = SMOTE(random_state=42)\n",
    "\n",
    "X_res, y_res = sm.fit_resample(X, y)\n",
    "\n",
    "print('Resampled dataset shape %s' % Counter(y_res))"
   ]
  },
  {
   "cell_type": "markdown",
   "metadata": {},
   "source": [
    "### Logistic Regression"
   ]
  },
  {
   "cell_type": "code",
   "execution_count": 29,
   "metadata": {},
   "outputs": [
    {
     "name": "stderr",
     "output_type": "stream",
     "text": [
      "C:\\Users\\arpan\\Anaconda3\\lib\\site-packages\\sklearn\\linear_model\\logistic.py:432: FutureWarning: Default solver will be changed to 'lbfgs' in 0.22. Specify a solver to silence this warning.\n",
      "  FutureWarning)\n"
     ]
    },
    {
     "name": "stdout",
     "output_type": "stream",
     "text": [
      "              precision    recall  f1-score   support\n",
      "\n",
      "           0       1.00      0.49      0.66     97746\n",
      "           1       0.01      0.82      0.01       427\n",
      "\n",
      "   micro avg       0.49      0.49      0.49     98173\n",
      "   macro avg       0.50      0.65      0.34     98173\n",
      "weighted avg       0.99      0.49      0.65     98173\n",
      "\n"
     ]
    }
   ],
   "source": [
    "# Training\n",
    "logmodel = LogisticRegression()\n",
    "logmodel.fit(X_res,y_res)\n",
    "\n",
    "# Prediction\n",
    "predictions = logmodel.predict(X_test)\n",
    "\n",
    "# Evaluation\n",
    "print(classification_report(y_test,predictions))"
   ]
  },
  {
   "cell_type": "markdown",
   "metadata": {},
   "source": [
    "### Random Forest"
   ]
  },
  {
   "cell_type": "code",
   "execution_count": 30,
   "metadata": {},
   "outputs": [
    {
     "name": "stderr",
     "output_type": "stream",
     "text": [
      "C:\\Users\\arpan\\Anaconda3\\lib\\site-packages\\sklearn\\ensemble\\forest.py:248: FutureWarning: The default value of n_estimators will change from 10 in version 0.20 to 100 in 0.22.\n",
      "  \"10 in version 0.20 to 100 in 0.22.\", FutureWarning)\n"
     ]
    },
    {
     "name": "stdout",
     "output_type": "stream",
     "text": [
      "              precision    recall  f1-score   support\n",
      "\n",
      "           0       1.00      0.44      0.61     97746\n",
      "           1       0.00      0.59      0.01       427\n",
      "\n",
      "   micro avg       0.44      0.44      0.44     98173\n",
      "   macro avg       0.50      0.51      0.31     98173\n",
      "weighted avg       0.99      0.44      0.61     98173\n",
      "\n"
     ]
    }
   ],
   "source": [
    "# Training\n",
    "clf=RandomForestClassifier()\n",
    "# n_estimators=100\n",
    "clf.fit(X_res,y_res)\n",
    "\n",
    "# Prediction\n",
    "predictions=clf.predict(X_test)\n",
    "\n",
    "# Evaluation\n",
    "print(classification_report(y_test,predictions))"
   ]
  },
  {
   "cell_type": "code",
   "execution_count": 31,
   "metadata": {},
   "outputs": [
    {
     "name": "stdout",
     "output_type": "stream",
     "text": [
      "Accuracy: 0.4423619528791012\n"
     ]
    }
   ],
   "source": [
    "#Import scikit-learn metrics module for accuracy calculation\n",
    "# from sklearn import metrics\n",
    "# Model Accuracy, how often is the classifier correct?\n",
    "print(\"Accuracy:\",metrics.accuracy_score(y_test, predictions))"
   ]
  },
  {
   "cell_type": "markdown",
   "metadata": {},
   "source": [
    "### (ii) ADASYN"
   ]
  },
  {
   "cell_type": "code",
   "execution_count": null,
   "metadata": {},
   "outputs": [],
   "source": [
    "from imblearn.over_sampling import ADASYN"
   ]
  },
  {
   "cell_type": "code",
   "execution_count": 34,
   "metadata": {},
   "outputs": [
    {
     "ename": "NameError",
     "evalue": "name 'ADASYN' is not defined",
     "output_type": "error",
     "traceback": [
      "\u001b[1;31m---------------------------------------------------------------------------\u001b[0m",
      "\u001b[1;31mNameError\u001b[0m                                 Traceback (most recent call last)",
      "\u001b[1;32m<ipython-input-34-25dddf9f3ad2>\u001b[0m in \u001b[0;36m<module>\u001b[1;34m()\u001b[0m\n\u001b[1;32m----> 1\u001b[1;33m \u001b[0mX_resampled\u001b[0m\u001b[1;33m,\u001b[0m \u001b[0my_resampled\u001b[0m \u001b[1;33m=\u001b[0m \u001b[0mADASYN\u001b[0m\u001b[1;33m(\u001b[0m\u001b[1;33m)\u001b[0m\u001b[1;33m.\u001b[0m\u001b[0mfit_resample\u001b[0m\u001b[1;33m(\u001b[0m\u001b[0mX\u001b[0m\u001b[1;33m,\u001b[0m \u001b[0my\u001b[0m\u001b[1;33m)\u001b[0m\u001b[1;33m\u001b[0m\u001b[0m\n\u001b[0m\u001b[0;32m      2\u001b[0m \u001b[1;33m\u001b[0m\u001b[0m\n\u001b[0;32m      3\u001b[0m \u001b[1;31m# print('Resampled dataset shape %s' % Counter(y_resampled))\u001b[0m\u001b[1;33m\u001b[0m\u001b[1;33m\u001b[0m\u001b[0m\n\u001b[0;32m      4\u001b[0m \u001b[1;33m\u001b[0m\u001b[0m\n\u001b[0;32m      5\u001b[0m \u001b[1;31m# print(sorted(Counter(y_resampled).items())\u001b[0m\u001b[1;33m\u001b[0m\u001b[1;33m\u001b[0m\u001b[0m\n",
      "\u001b[1;31mNameError\u001b[0m: name 'ADASYN' is not defined"
     ]
    }
   ],
   "source": [
    "X_resampled, y_resampled = ADASYN().fit_resample(X, y)\n",
    "\n",
    "# print('Resampled dataset shape %s' % Counter(y_resampled))\n",
    "\n",
    "# print(sorted(Counter(y_resampled).items())"
   ]
  },
  {
   "cell_type": "markdown",
   "metadata": {},
   "source": [
    "--------------------------------------------------------------------------------------------------------------------------"
   ]
  },
  {
   "cell_type": "code",
   "execution_count": null,
   "metadata": {
    "scrolled": true
   },
   "outputs": [],
   "source": [
    "# dropping the following 3 categorical variables with too many categories (alpha and alphanumeric)\n",
    "# ddf = ndf.drop('state', axis=1)\n",
    "# del ndf['state']\n",
    "# ndf.head()"
   ]
  },
  {
   "cell_type": "code",
   "execution_count": null,
   "metadata": {},
   "outputs": [],
   "source": [
    "# with above 3 columns removed\n",
    "# ndf.head()"
   ]
  },
  {
   "cell_type": "code",
   "execution_count": null,
   "metadata": {},
   "outputs": [],
   "source": [
    "# print(ndf.isnull().values.sum())"
   ]
  },
  {
   "cell_type": "code",
   "execution_count": null,
   "metadata": {},
   "outputs": [],
   "source": [
    "# checking the list of columns with missing values\n",
    "# ndf.columns[ndf.isnull().any()]"
   ]
  },
  {
   "cell_type": "markdown",
   "metadata": {},
   "source": [
    "No column has missing values in dataframe ndf"
   ]
  },
  {
   "cell_type": "markdown",
   "metadata": {},
   "source": [
    "Now, we'll create a new dataframe with all the categorical variables from ndf converted to dummy variables. We'll call it ddf"
   ]
  },
  {
   "cell_type": "code",
   "execution_count": null,
   "metadata": {},
   "outputs": [],
   "source": [
    "# ndf.columns"
   ]
  },
  {
   "cell_type": "code",
   "execution_count": null,
   "metadata": {},
   "outputs": [],
   "source": [
    "# checking categorical variables (type = object)\n",
    "# ndf.dtypes"
   ]
  },
  {
   "cell_type": "code",
   "execution_count": null,
   "metadata": {},
   "outputs": [],
   "source": [
    "# ddf = pd.get_dummies(ndf, prefix=['1st_home', 'occupancy', 'channel', 'prod_type', 'home_type', 'purpose'],\n",
    "#                      columns=['1st_home', 'occupancy', 'channel', 'prod_type', 'home_type', 'purpose'])\n",
    "# ddf.head()"
   ]
  },
  {
   "cell_type": "code",
   "execution_count": null,
   "metadata": {},
   "outputs": [],
   "source": [
    "# ddf.drop(['mon_rep_dt', '1st_pay_dt', 'maturity_dt'], axis=1).head()"
   ]
  },
  {
   "cell_type": "markdown",
   "metadata": {},
   "source": [
    "### Pre-processing"
   ]
  },
  {
   "cell_type": "code",
   "execution_count": null,
   "metadata": {},
   "outputs": [],
   "source": [
    "# X = ddf.drop(['loan_id', 'default_status'], axis=1)  \n",
    "# y = ddf['default_status']"
   ]
  },
  {
   "cell_type": "markdown",
   "metadata": {},
   "source": [
    "### Train-Test Split"
   ]
  },
  {
   "cell_type": "code",
   "execution_count": null,
   "metadata": {},
   "outputs": [],
   "source": [
    "# from sklearn.model_selection import train_test_split  \n",
    "# X_train, X_test, y_train, y_test = train_test_split(X, y, test_size=0.30)"
   ]
  }
 ],
 "metadata": {
  "kernelspec": {
   "display_name": "Python 3",
   "language": "python",
   "name": "python3"
  },
  "language_info": {
   "codemirror_mode": {
    "name": "ipython",
    "version": 3
   },
   "file_extension": ".py",
   "mimetype": "text/x-python",
   "name": "python",
   "nbconvert_exporter": "python",
   "pygments_lexer": "ipython3",
   "version": "3.6.5"
  }
 },
 "nbformat": 4,
 "nbformat_minor": 2
}
